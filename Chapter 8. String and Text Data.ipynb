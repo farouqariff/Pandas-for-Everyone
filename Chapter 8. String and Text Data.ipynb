{
 "cells": [
  {
   "cell_type": "markdown",
   "id": "25f16ccf",
   "metadata": {},
   "source": [
    "# String Formatting"
   ]
  },
  {
   "cell_type": "markdown",
   "id": "e4dfc08a",
   "metadata": {},
   "source": [
    "## 1. Using format() function"
   ]
  },
  {
   "cell_type": "code",
   "execution_count": 1,
   "id": "84e6581c",
   "metadata": {},
   "outputs": [
    {
     "data": {
      "text/plain": [
       "'Asfadhia, I <3 U'"
      ]
     },
     "execution_count": 1,
     "metadata": {},
     "output_type": "execute_result"
    }
   ],
   "source": [
    "# Example 1\n",
    "crush = 'Asfadhia'\n",
    "confess = '{}, I <3 U'\n",
    "confess.format(crush)"
   ]
  },
  {
   "cell_type": "code",
   "execution_count": 2,
   "id": "11871cb7",
   "metadata": {},
   "outputs": [
    {
     "data": {
      "text/plain": [
       "'My height is 171cm and my weight is 55kg.'"
      ]
     },
     "execution_count": 2,
     "metadata": {},
     "output_type": "execute_result"
    }
   ],
   "source": [
    "# Example 2\n",
    "biodata = 'My height is {h}cm and my weight is {w}kg.'\n",
    "biodata.format(h='171', w='55')"
   ]
  },
  {
   "cell_type": "code",
   "execution_count": 3,
   "id": "1f42b4b8",
   "metadata": {},
   "outputs": [
    {
     "name": "stdout",
     "output_type": "stream",
     "text": [
      "I remember 0.008772 or 0.8772% of what Lu Chao recited\n"
     ]
    }
   ],
   "source": [
    "# Example 3\n",
    "\n",
    "# The 0 in {0:.4} and {0:.4%} refer to the 0 index in this format\n",
    "# The .4 refers to how many numbers to fill after the first nth zeros (0.00....)\n",
    "# If we provide a %, it will format the decimal as a percentage\n",
    "\n",
    "print(\"I remember {0:.4} or {0:.4%} of what Lu Chao recited\".format(4/456))"
   ]
  },
  {
   "cell_type": "code",
   "execution_count": 4,
   "id": "8aad57a2",
   "metadata": {},
   "outputs": [
    {
     "name": "stdout",
     "output_type": "stream",
     "text": [
      "My ID number is 00001\n"
     ]
    }
   ],
   "source": [
    "# Example 4\n",
    "\n",
    "# The first 0 refers to the index in this format\n",
    "# The second zero refers to the character to fill\n",
    "# The 5 in this case refers to how many characters in total\n",
    "# The d signals a digit will used\n",
    "# Pad the number with 0s so the entire string has 5 characters\n",
    "\n",
    "print(\"My ID number is {0:05d}\".format(1))"
   ]
  },
  {
   "cell_type": "markdown",
   "id": "0983d8a9",
   "metadata": {},
   "source": [
    "## 2. Using % operator"
   ]
  },
  {
   "cell_type": "code",
   "execution_count": 5,
   "id": "d72fa127",
   "metadata": {},
   "outputs": [
    {
     "data": {
      "text/plain": [
       "'Asfadhia, please marry me!!'"
      ]
     },
     "execution_count": 5,
     "metadata": {},
     "output_type": "execute_result"
    }
   ],
   "source": [
    "# Example 1\n",
    "propose = \"%s, please marry me!!\" % crush\n",
    "propose"
   ]
  },
  {
   "cell_type": "code",
   "execution_count": 6,
   "id": "09d1c69a",
   "metadata": {},
   "outputs": [
    {
     "data": {
      "text/plain": [
       "'My favorite anime is 86 or Eighty-Six'"
      ]
     },
     "execution_count": 6,
     "metadata": {},
     "output_type": "execute_result"
    }
   ],
   "source": [
    "# Example 2\n",
    "anime = 'My favorite anime is %(num)d or %(str)s' % {'num':86, 'str':'Eighty-Six'}\n",
    "anime"
   ]
  },
  {
   "cell_type": "markdown",
   "id": "ad80a4ad",
   "metadata": {},
   "source": [
    "## 3. Using f-string"
   ]
  },
  {
   "cell_type": "code",
   "execution_count": 7,
   "id": "20645ff1",
   "metadata": {},
   "outputs": [
    {
     "data": {
      "text/plain": [
       "\"Right now, I'm finishing SE FYP while staying at college 8.\""
      ]
     },
     "execution_count": 7,
     "metadata": {},
     "output_type": "execute_result"
    }
   ],
   "source": [
    "# Example\n",
    "kolej = 8\n",
    "goal = 'SE FYP'\n",
    "life = f'Right now, I\\'m finishing {goal} while staying at college {8}.'\n",
    "\n",
    "life"
   ]
  },
  {
   "cell_type": "markdown",
   "id": "0401df11",
   "metadata": {},
   "source": [
    "# Regular Expression (RegEx)"
   ]
  },
  {
   "cell_type": "code",
   "execution_count": 8,
   "id": "703721f2",
   "metadata": {},
   "outputs": [],
   "source": [
    "import re"
   ]
  },
  {
   "cell_type": "markdown",
   "id": "08183580",
   "metadata": {},
   "source": [
    "## 1. Match pattern"
   ]
  },
  {
   "cell_type": "markdown",
   "id": "dff9e84d",
   "metadata": {},
   "source": [
    "Using __match( )__ function"
   ]
  },
  {
   "cell_type": "markdown",
   "id": "ee8524ac",
   "metadata": {},
   "source": [
    "Example 1"
   ]
  },
  {
   "cell_type": "code",
   "execution_count": 9,
   "id": "256a33ba",
   "metadata": {},
   "outputs": [
    {
     "name": "stdout",
     "output_type": "stream",
     "text": [
      "<class 're.Match'>\n",
      "<re.Match object; span=(0, 10), match='0123307614'>\n",
      "True\n"
     ]
    }
   ],
   "source": [
    "tele_num = '0123307614'\n",
    "m = re.match(pattern='\\d\\d\\d\\d\\d\\d\\d\\d\\d\\d', string=tele_num)\n",
    "print(type(m))\n",
    "print(m)\n",
    "print(bool(m))"
   ]
  },
  {
   "cell_type": "code",
   "execution_count": 10,
   "id": "d2cb234d",
   "metadata": {},
   "outputs": [
    {
     "name": "stdout",
     "output_type": "stream",
     "text": [
      "match\n"
     ]
    }
   ],
   "source": [
    "if m:\n",
    "    print('match')\n",
    "else:\n",
    "    print('no match')"
   ]
  },
  {
   "cell_type": "code",
   "execution_count": 11,
   "id": "9ceea749",
   "metadata": {},
   "outputs": [
    {
     "name": "stdout",
     "output_type": "stream",
     "text": [
      "0\n",
      "10\n",
      "(0, 10)\n",
      "0123307614\n"
     ]
    }
   ],
   "source": [
    "print(m.start())\n",
    "print(m.end())\n",
    "print(m.span())\n",
    "print(m.group())"
   ]
  },
  {
   "cell_type": "markdown",
   "id": "0acd2f39",
   "metadata": {},
   "source": [
    "Example 2"
   ]
  },
  {
   "cell_type": "code",
   "execution_count": 12,
   "id": "408eabfc",
   "metadata": {},
   "outputs": [],
   "source": [
    "tele_num_spaces = '012 330 7614'"
   ]
  },
  {
   "cell_type": "code",
   "execution_count": 13,
   "id": "2d292f61",
   "metadata": {},
   "outputs": [
    {
     "name": "stdout",
     "output_type": "stream",
     "text": [
      "None\n"
     ]
    }
   ],
   "source": [
    "m2 = re.match(pattern='\\d{10}', string=tele_num_spaces)\n",
    "print(m2)"
   ]
  },
  {
   "cell_type": "code",
   "execution_count": 14,
   "id": "2a112d82",
   "metadata": {},
   "outputs": [
    {
     "name": "stdout",
     "output_type": "stream",
     "text": [
      "no match\n"
     ]
    }
   ],
   "source": [
    "if m2:\n",
    "    print('match')\n",
    "else:\n",
    "    print('no match')"
   ]
  },
  {
   "cell_type": "code",
   "execution_count": 15,
   "id": "1744724c",
   "metadata": {},
   "outputs": [
    {
     "name": "stdout",
     "output_type": "stream",
     "text": [
      "<re.Match object; span=(0, 12), match='012 330 7614'>\n"
     ]
    }
   ],
   "source": [
    "pattern = '\\d{3}\\s?\\d{3}\\s?\\d{4}'\n",
    "m3 = re.match(pattern=pattern, string=tele_num_spaces)\n",
    "print(m3)"
   ]
  },
  {
   "cell_type": "markdown",
   "id": "c1732b25",
   "metadata": {},
   "source": [
    "Example 3"
   ]
  },
  {
   "cell_type": "code",
   "execution_count": 16,
   "id": "d8407a4a",
   "metadata": {},
   "outputs": [
    {
     "name": "stdout",
     "output_type": "stream",
     "text": [
      "<re.Match object; span=(0, 14), match='(012) 330-7614'>\n"
     ]
    }
   ],
   "source": [
    "tele_num_space_paren_dash = '(012) 330-7614'\n",
    "pattern2 = '\\(?\\d{3}\\)?\\s?\\d{3}\\s?-?\\d{4}'\n",
    "m3 = re.match(pattern=pattern2, string=tele_num_space_paren_dash)\n",
    "print(m3)"
   ]
  },
  {
   "cell_type": "markdown",
   "id": "26518347",
   "metadata": {},
   "source": [
    "Example 4"
   ]
  },
  {
   "cell_type": "code",
   "execution_count": 17,
   "id": "a47bcfb6",
   "metadata": {},
   "outputs": [
    {
     "name": "stdout",
     "output_type": "stream",
     "text": [
      "<re.Match object; span=(0, 17), match='+60 (12) 330-7614'>\n"
     ]
    }
   ],
   "source": [
    "cnty_tele_num_space_paren_dash ='+60 (12) 330-7614'\n",
    "pattern3 = '\\+?60\\s?\\(?\\d{2}\\)?\\s?\\d{3}\\s?-?\\d{4}'\n",
    "m4 = re.match(pattern=pattern3, string=cnty_tele_num_space_paren_dash)\n",
    "print(m4)"
   ]
  },
  {
   "cell_type": "markdown",
   "id": "c7388b35",
   "metadata": {},
   "source": [
    "## 2. Find pattern"
   ]
  },
  {
   "cell_type": "markdown",
   "id": "68b0ba21",
   "metadata": {},
   "source": [
    "Using __findall( )__ function"
   ]
  },
  {
   "cell_type": "code",
   "execution_count": 18,
   "id": "e7516bc7",
   "metadata": {},
   "outputs": [
    {
     "name": "stdout",
     "output_type": "stream",
     "text": [
      "['13', '12', '11', '10', '9']\n"
     ]
    }
   ],
   "source": [
    "p = '\\d+'\n",
    "s = \"13 Jodie Whittaker, war John Hurt, 12 Peter Capaldi, 11 Matt Smith, 10 David Tennant, 9 Christopher Eccleston\"\n",
    "m = re.findall(pattern=p, string=s)\n",
    "print(m)"
   ]
  },
  {
   "cell_type": "markdown",
   "id": "97ef4898",
   "metadata": {},
   "source": [
    "## 3. Substitute pattern"
   ]
  },
  {
   "cell_type": "markdown",
   "id": "6404a72d",
   "metadata": {},
   "source": [
    "Using __sub( )__ function"
   ]
  },
  {
   "cell_type": "code",
   "execution_count": 19,
   "id": "c9c8591f",
   "metadata": {},
   "outputs": [
    {
     "name": "stdout",
     "output_type": "stream",
     "text": [
      "What? Ridden on a horse?\n",
      "Yes!\n",
      "You're using coconuts!\n",
      "What?\n",
      "You've got ... coconut[s] and you're bangin' 'em\n",
      "together.\n",
      "\n"
     ]
    }
   ],
   "source": [
    "multi_str = \"\"\"Guard: What? Ridden on a horse?\n",
    "King Arthur: Yes!\n",
    "Guard: You're using coconuts!\n",
    "King Arthur: What?\n",
    "Guard: You've got ... coconut[s] and you're bangin' 'em\n",
    "together.\n",
    "\"\"\"\n",
    "\n",
    "p = '\\w+\\s?\\w+:\\s?'\n",
    "s = re.sub(pattern=p, string=multi_str, repl='')\n",
    "print(s)\n"
   ]
  },
  {
   "cell_type": "code",
   "execution_count": 20,
   "id": "660d5adf",
   "metadata": {},
   "outputs": [
    {
     "name": "stdout",
     "output_type": "stream",
     "text": [
      "['What? Ridden on a horse?', \"You're using coconuts!\", \"You've got ... coconut[s] and you're bangin' 'em\"]\n",
      "['Yes!', 'What?', 'together.']\n"
     ]
    }
   ],
   "source": [
    "guard = s.splitlines()[::2]\n",
    "kinga = s.splitlines()[1::2] \n",
    "print(guard)\n",
    "print(kinga)"
   ]
  },
  {
   "cell_type": "markdown",
   "id": "b5656f29",
   "metadata": {},
   "source": [
    "## 4. Compile pattern"
   ]
  },
  {
   "cell_type": "markdown",
   "id": "64a0bd28",
   "metadata": {},
   "source": [
    "Using __compile( )__ function to store the pattern so that it can be reused"
   ]
  },
  {
   "cell_type": "markdown",
   "id": "8b959813",
   "metadata": {},
   "source": [
    "Example 1"
   ]
  },
  {
   "cell_type": "code",
   "execution_count": 21,
   "id": "5ef49fc0",
   "metadata": {},
   "outputs": [
    {
     "name": "stdout",
     "output_type": "stream",
     "text": [
      "<re.Match object; span=(0, 10), match='1234567890'>\n"
     ]
    }
   ],
   "source": [
    "p = re.compile('\\d{10}')\n",
    "s = '1234567890'\n",
    "m = p.match(s)\n",
    "print(m)"
   ]
  },
  {
   "cell_type": "markdown",
   "id": "9f81793a",
   "metadata": {},
   "source": [
    "Example 2"
   ]
  },
  {
   "cell_type": "code",
   "execution_count": 22,
   "id": "2bf5ae50",
   "metadata": {},
   "outputs": [
    {
     "name": "stdout",
     "output_type": "stream",
     "text": [
      "['13', '12', '11', '10', '9']\n"
     ]
    }
   ],
   "source": [
    "p = re.compile('\\d+')\n",
    "s = \"13 Jodie Whittaker, war John Hurt, 12 Peter Capaldi, 11 Matt Smith, 10 David Tennant, 9 Christopher Eccleston\"\n",
    "m = p.findall(s)\n",
    "print(m)"
   ]
  },
  {
   "cell_type": "markdown",
   "id": "37975052",
   "metadata": {},
   "source": [
    "Example 3"
   ]
  },
  {
   "cell_type": "code",
   "execution_count": 23,
   "id": "785a93e5",
   "metadata": {},
   "outputs": [
    {
     "name": "stdout",
     "output_type": "stream",
     "text": [
      "You're using coconuts!\n"
     ]
    }
   ],
   "source": [
    "p = re.compile('\\w+\\s?\\w+:\\s?')\n",
    "s = \"Guard: You're using coconuts!\"\n",
    "m = p.sub(string=s, repl='')\n",
    "print(m)"
   ]
  }
 ],
 "metadata": {
  "kernelspec": {
   "display_name": "Python 3 (ipykernel)",
   "language": "python",
   "name": "python3"
  },
  "language_info": {
   "codemirror_mode": {
    "name": "ipython",
    "version": 3
   },
   "file_extension": ".py",
   "mimetype": "text/x-python",
   "name": "python",
   "nbconvert_exporter": "python",
   "pygments_lexer": "ipython3",
   "version": "3.7.11"
  }
 },
 "nbformat": 4,
 "nbformat_minor": 5
}
